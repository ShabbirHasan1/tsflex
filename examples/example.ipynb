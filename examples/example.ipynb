{
 "cells": [
  {
   "cell_type": "code",
   "execution_count": 1,
   "metadata": {},
   "outputs": [],
   "source": [
    "import numpy as np\n",
    "import pandas as pd\n",
    "import scipy.stats as ss\n",
    "from typing import List"
   ]
  },
  {
   "cell_type": "markdown",
   "metadata": {
    "tags": []
   },
   "source": [
    "# Series Processing pipeline"
   ]
  },
  {
   "cell_type": "markdown",
   "metadata": {},
   "source": [
    "`TODO`"
   ]
  },
  {
   "cell_type": "code",
   "execution_count": 2,
   "metadata": {},
   "outputs": [
    {
     "name": "stdout",
     "output_type": "stream",
     "text": [
      "                                         TMP\n",
      "timestamp                                   \n",
      "2017-06-13 14:22:13+02:00         382.209991\n",
      "2017-06-13 14:22:13.250000+02:00  382.209991\n",
      "2017-06-13 14:22:13.500000+02:00  382.209991\n",
      "------------------------------------------------------------\n",
      "                                  ACC_x  ACC_y  ACC_z\n",
      "timestamp                                            \n",
      "2017-06-13 14:22:13+02:00             0      5     63\n",
      "2017-06-13 14:22:13.031250+02:00      0      5     63\n",
      "2017-06-13 14:22:13.062500+02:00      0      5     63\n",
      "2017-06-13 14:22:13.093750+02:00      0      5     63\n",
      "2017-06-13 14:22:13.125000+02:00      0      5     63\n",
      "2017-06-13 14:22:13.156250+02:00     -1      5     63\n",
      "2017-06-13 14:22:13.187500+02:00     -1      5     63\n",
      "2017-06-13 14:22:13.218750+02:00      0      5     63\n",
      "2017-06-13 14:22:13.250000+02:00      0      5     63\n",
      "2017-06-13 14:22:13.281250+02:00      0      5     63\n",
      "------------------------------------------------------------\n",
      "                                       EDA\n",
      "timestamp                                 \n",
      "2017-06-13 14:22:13+02:00         0.000000\n",
      "2017-06-13 14:22:13.250000+02:00  0.400309\n",
      "2017-06-13 14:22:13.500000+02:00  0.475767\n"
     ]
    }
   ],
   "source": [
    "# Load your data\n",
    "df_tmp = pd.read_parquet(\"data/empatica/tmp.parquet\", engine='fastparquet').set_index(\"timestamp\")\n",
    "df_gsr = pd.read_parquet(\"data/empatica/gsr.parquet\", engine='fastparquet').set_index(\"timestamp\")\n",
    "df_acc = pd.read_parquet(\"data/empatica/acc.parquet\", engine='fastparquet').set_index(\"timestamp\")\n",
    "\n",
    "# !!! The data MUST datetime Indexed\n",
    "assert isinstance(df_tmp.index, pd.DatetimeIndex)\n",
    "\n",
    "print(df_tmp.head(3))   # ~4Hz\n",
    "print('-'*60)\n",
    "print(df_acc.head(10))  # ~32Hz\n",
    "print('-'*60)\n",
    "print(df_gsr.head(3))   # ~4Hz"
   ]
  },
  {
   "cell_type": "markdown",
   "metadata": {},
   "source": [
    "**note**: The `ACC` signal is sampled at a different sample frequency.\n",
    "\n",
    "> So we deal with `multivariate data` of which each modality has a different sample-frequency."
   ]
  },
  {
   "cell_type": "markdown",
   "metadata": {
    "tags": []
   },
   "source": [
    "# Feature extraction"
   ]
  },
  {
   "cell_type": "code",
   "execution_count": 3,
   "metadata": {},
   "outputs": [],
   "source": [
    "try: \n",
    "    from tsflex.features import FeatureCollection, NumpyFuncWrapper\n",
    "    from tsflex.features import FeatureDescriptor, MultipleFeatureDescriptors\n",
    "except:\n",
    "    import sys\n",
    "    sys.path.append('../')\n",
    "    from tsflex.features import FeatureCollection, NumpyFuncWrapper\n",
    "    from tsflex.features import FeatureDescriptor, MultipleFeatureDescriptors"
   ]
  },
  {
   "cell_type": "markdown",
   "metadata": {
    "tags": []
   },
   "source": [
    "## Defining functions"
   ]
  },
  {
   "cell_type": "markdown",
   "metadata": {},
   "source": [
    "**[link to docs](https://predict-idlab.github.io/tsflex/features/index.html#getting-started)**\n",
    "\n",
    "![features uml](https://raw.githubusercontent.com/predict-idlab/tsflex/main/docs/_static/features_uml.png)\n",
    "\n",
    "As shown above, there are 3 relevant classes for feature-extraction.\n",
    "\n",
    "1. [FeatureCollection](https://predict-idlab.github.io/tsflex/features/#tsflex.features.FeatureCollection): serves as a registry, withholding the to-be-calculated _features_\n",
    "2. [FeatureDescriptor](https://predict-idlab.github.io/tsflex/features/#tsflex.features.FeatureDescriptor): an instance of this class describes a _feature_. <br>Features are defined by:\n",
    "      * `series_name`: the names of the signal(s) which this feature will use. \n",
    "      * `function`: the _Callable_ feature-function - e.g. _np.mean_\n",
    "      * `window`: the _time-based_ window -  e.g. _\"1hour\"_\n",
    "      * `stride`: the _time-based_ stride - e.g. _\"2days\"_\n",
    "3. [NumpyFuncWrapper](https://predict-idlab.github.io/tsflex/features/#tsflex.features.NumpyFuncWrapper): a wrapper around _Callable_ functions, intended for advanced feature function definitions, such as:\n",
    "    * features with multiple output columns\n",
    "    * passing _**kwargs_ to feature functions\n",
    "\n",
    "\n",
    "**Note**: this library does `not` provide any feature-functions as:\n",
    "* There already exist many other feature extraction libraries such as numpy, scipy, tsfresh with which `tsflex` integrates.\n",
    "* (Relevant) features are dependent on the objective and signals-modalites, making features methods very problem specific.\n",
    "* Finally, as can be seen in the example below, our `NumpyFuncWrapper`'s `func`-attribute is versatile enough to wrap the end-user's desired features."
   ]
  },
  {
   "cell_type": "code",
   "execution_count": 4,
   "metadata": {},
   "outputs": [
    {
     "data": {
      "text/plain": "[<function numpy.mean(a, axis=None, dtype=None, out=None, keepdims=<no value>, *, where=<no value>)>,\n <function numpy.std(a, axis=None, dtype=None, out=None, ddof=0, keepdims=<no value>, *, where=<no value>)>,\n <function numpy.var(a, axis=None, dtype=None, out=None, ddof=0, keepdims=<no value>, *, where=<no value>)>,\n <function numpy.amax(a, axis=None, out=None, keepdims=<no value>, initial=<no value>, where=<no value>)>,\n <function numpy.amin(a, axis=None, out=None, keepdims=<no value>, initial=<no value>, where=<no value>)>,\n <function scipy.stats.stats.skew(a, axis=0, bias=True, nan_policy='propagate')>,\n <function scipy.stats.stats.kurtosis(a, axis=0, fisher=True, bias=True, nan_policy='propagate')>,\n NumpyFuncWrapper(quantile, ['quantile_0.25', 'quantile_0.5', 'quantile_0.75'], {'q': [0.25, 0.5, 0.75]}),\n NumpyFuncWrapper(slope, ['slope'], {}),\n NumpyFuncWrapper(<lambda>, ['rms'], {}),\n NumpyFuncWrapper(sum, ['area'], {})]"
     },
     "execution_count": 4,
     "metadata": {},
     "output_type": "execute_result"
    }
   ],
   "source": [
    "# --------------------- some custom feature extraction functions ---------------------\n",
    "# -- 1. one-to-many functions\n",
    "#    To compute quantiles, you need sort the windowed data, which is a rather expensive\n",
    "#    operation O(n*log(n)). Hence, you might want to calculate all your desired \n",
    "#    quantiles in a single function-wrapper, returning multiple outputs.\n",
    "\n",
    "quantiles = [0.25, 0.5, 0.75]\n",
    "f_quantiles = NumpyFuncWrapper(\n",
    "    func=np.quantile,  # the wrapped function that will operate on numpy arrays\n",
    "    output_names=[f\"quantile_{q}\" for q in quantiles],  # the output column names\n",
    "    q=quantiles,  # optional - additional function-related kwargs\n",
    ")\n",
    "\n",
    "\n",
    "# -- 2. in-line functions\n",
    "#    You can define your functions locally; these will serialize flawlessly\n",
    "def slope(x):\n",
    "    return np.polyfit(np.arange(0, len(x)), x, 1)[0]\n",
    "\n",
    "f_slope = NumpyFuncWrapper(slope, output_names=\"slope\")\n",
    "\n",
    "# -- 3. Lambda's\n",
    "#    Or even use lambda's and other modules' functions\n",
    "f_rms = NumpyFuncWrapper(lambda x: np.sqrt(np.mean(x ** 2)), output_names=\"rms\")\n",
    "f_area = NumpyFuncWrapper(np.sum, output_names=\"area\")\n",
    "\n",
    "\n",
    "# (For convenience) we store the constructed `NumpyFuncWrappers` in a list\n",
    "segment_funcs = [\n",
    "    np.mean,\n",
    "    np.std,\n",
    "    np.var,\n",
    "    np.max,\n",
    "    np.min,\n",
    "    ss.skew,  # use other libraries such as scipy\n",
    "    ss.kurtosis,\n",
    "    f_quantiles,\n",
    "    f_slope,\n",
    "    f_rms,\n",
    "    f_area,\n",
    "]\n",
    "segment_funcs"
   ]
  },
  {
   "cell_type": "markdown",
   "metadata": {
    "tags": []
   },
   "source": [
    "## Single series feature extraction"
   ]
  },
  {
   "cell_type": "markdown",
   "metadata": {},
   "source": [
    "The defined functions above will be encapsulated in a [FeatureDescriptor](https://predict-idlab.github.io/tsflex/features/index.html#tsflex.features.FeatureDescriptor) object.\n",
    "\n",
    "A `FeatureDescriptor` describes a feature, and has 4 main attributes:\n",
    "\n",
    "<center>\n",
    "\n",
    "## Featuredescriptor constructor args:\n",
    "\n",
    "|  attribute \t|                  type                 \t| info                                                                                                             \t|\n",
    "|-----------:\t|:-------------------------------------:\t|------------------------------------------------------------------------------------------------------------------\t|\n",
    "| `function` \t| Union[Callable, <br>NumpyFuncWrapper] \t| The `function` that calculates this feature.                                                                     \t|\n",
    "|      `key` \t|                 Tuple[str, ...]                \t| The signal key; i.e., the `pd.DataFrame` column name or <br> `pd.Series` name on which the function will operate.     \t|\n",
    "|   `window` \t|                  Union[str, pd.timedelta]               \t| The window size on which this feature will be applied, <br> expressed in a **time-based** manner. \t|\n",
    "|   `stride` \t|                  Union[str, pd.timedelta]                  \t| The stride of the window rolling process, also as <br> expressed in a **time-based** manner|\n",
    "\n",
    "</center>\n",
    "\n",
    "\n",
    "**note**: [MultipleFeatureDescriptor](https://predict-idlab.github.io/tsflex/features/index.html#tsflex.features.MultipleFeatureDescriptors) is actaully a factory for `FeatureDescriptor` objects."
   ]
  },
  {
   "cell_type": "markdown",
   "metadata": {
    "tags": []
   },
   "source": [
    "### Fixed window size & stride"
   ]
  },
  {
   "cell_type": "markdown",
   "metadata": {},
   "source": [
    "**note**: this functionality is exposed by most existing time-series libraries (often on a sample-based matter).\n",
    "\n",
    "In this example, we will use the _temperature_ signal from a wearable"
   ]
  },
  {
   "cell_type": "code",
   "execution_count": 1,
   "outputs": [
    {
     "ename": "NameError",
     "evalue": "name 'df_tmp' is not defined",
     "output_type": "error",
     "traceback": [
      "\u001B[0;31m---------------------------------------------------------------------------\u001B[0m",
      "\u001B[0;31mNameError\u001B[0m                                 Traceback (most recent call last)",
      "\u001B[0;32m<ipython-input-1-1230e32ed5b0>\u001B[0m in \u001B[0;36m<module>\u001B[0;34m\u001B[0m\n\u001B[0;32m----> 1\u001B[0;31m \u001B[0mdf_tmp\u001B[0m\u001B[0;34m.\u001B[0m\u001B[0msample\u001B[0m\u001B[0;34m(\u001B[0m\u001B[0;36m2\u001B[0m\u001B[0;34m)\u001B[0m\u001B[0;34m\u001B[0m\u001B[0;34m\u001B[0m\u001B[0m\n\u001B[0m\u001B[1;32m      2\u001B[0m \u001B[0;34m\u001B[0m\u001B[0m\n",
      "\u001B[0;31mNameError\u001B[0m: name 'df_tmp' is not defined"
     ]
    }
   ],
   "source": [
    "df_tmp.sample(2)"
   ],
   "metadata": {
    "collapsed": false,
    "pycharm": {
     "name": "#%%\n"
    }
   }
  },
  {
   "cell_type": "markdown",
   "metadata": {},
   "source": [
    "Note how the `TMP`-column is used as signal_key in the `FeatureCollection`"
   ]
  },
  {
   "cell_type": "code",
   "execution_count": 5,
   "metadata": {
    "tags": []
   },
   "outputs": [
    {
     "data": {
      "text/plain": "TMP: (\n\twin: 1m    , stride: 30s: [\n\t\tFeatureDescriptor - func: NumpyFuncWrapper(mean, ['mean'], {}),\n\t\tFeatureDescriptor - func: NumpyFuncWrapper(std, ['std'], {}),\n\t\tFeatureDescriptor - func: NumpyFuncWrapper(var, ['var'], {}),\n\t\tFeatureDescriptor - func: NumpyFuncWrapper(amax, ['amax'], {}),\n\t\tFeatureDescriptor - func: NumpyFuncWrapper(amin, ['amin'], {}),\n\t\tFeatureDescriptor - func: NumpyFuncWrapper(skew, ['skew'], {}),\n\t\tFeatureDescriptor - func: NumpyFuncWrapper(kurtosis, ['kurtosis'], {}),\n\t\tFeatureDescriptor - func: NumpyFuncWrapper(quantile, ['quantile_0.25', 'quantile_0.5', 'quantile_0.75'], {'q': [0.25, 0.5, 0.75]}),\n\t\tFeatureDescriptor - func: NumpyFuncWrapper(slope, ['slope'], {}),\n\t\tFeatureDescriptor - func: NumpyFuncWrapper(<lambda>, ['rms'], {}),\n\t\tFeatureDescriptor - func: NumpyFuncWrapper(sum, ['area'], {}),\n\t]\n)"
     },
     "execution_count": 5,
     "metadata": {},
     "output_type": "execute_result"
    }
   ],
   "source": [
    "# Define the sample frequency and window size\n",
    "tmp_feat_extr = FeatureCollection(\n",
    "    feature_descriptors=[\n",
    "        MultipleFeatureDescriptors(\n",
    "            functions=segment_funcs,  # The list of functions we constructed earlier\n",
    "            series_names=[\"TMP\"],\n",
    "            windows='60s',\n",
    "            strides='30s',\n",
    "        )\n",
    "    ]\n",
    ")\n",
    "\n",
    "# The FeatureCollection's __repr__() gives a nice overview of the structure\n",
    "tmp_feat_extr"
   ]
  },
  {
   "cell_type": "code",
   "execution_count": 6,
   "metadata": {},
   "outputs": [
    {
     "data": {
      "text/plain": "                           TMP__mean__w=1m_s=30s  TMP__var__w=1m_s=30s  \\\ntimestamp                                                                \n2017-06-13 16:03:43+02:00              32.084496              0.002701   \n2017-06-13 14:23:13+02:00              33.346001           2062.819580   \n\n                           TMP__std__w=1m_s=30s  TMP__amax__w=1m_s=30s  \\\ntimestamp                                                                \n2017-06-13 16:03:43+02:00              0.051975              32.150002   \n2017-06-13 14:23:13+02:00             45.418274             382.209991   \n\n                           TMP__amin__w=1m_s=30s  TMP__skew__w=1m_s=30s  \\\ntimestamp                                                                 \n2017-06-13 16:03:43+02:00              31.930000              -1.664221   \n2017-06-13 14:23:13+02:00              27.370001               7.550932   \n\n                           TMP__kurtosis__w=1m_s=30s  \\\ntimestamp                                              \n2017-06-13 16:03:43+02:00                   2.031371   \n2017-06-13 14:23:13+02:00                  55.016679   \n\n                           TMP__quantile_0.25__w=1m_s=30s  \\\ntimestamp                                                   \n2017-06-13 16:03:43+02:00                       32.085000   \n2017-06-13 14:23:13+02:00                       27.389999   \n\n                           TMP__quantile_0.5__w=1m_s=30s  \\\ntimestamp                                                  \n2017-06-13 16:03:43+02:00                      32.110001   \n2017-06-13 14:23:13+02:00                      27.410000   \n\n                           TMP__quantile_0.75__w=1m_s=30s  \\\ntimestamp                                                   \n2017-06-13 16:03:43+02:00                       32.110001   \n2017-06-13 14:23:13+02:00                       27.474999   \n\n                           TMP__rms__w=1m_s=30s  TMP__slope__w=1m_s=30s  \\\ntimestamp                                                                 \n2017-06-13 16:03:43+02:00             32.084541               -0.000589   \n2017-06-13 14:23:13+02:00             56.345150               -0.146092   \n\n                           TMP__area__w=1m_s=30s  \ntimestamp                                         \n2017-06-13 16:03:43+02:00            7700.279297  \n2017-06-13 14:23:13+02:00            8003.040039  ",
      "text/html": "<div>\n<style scoped>\n    .dataframe tbody tr th:only-of-type {\n        vertical-align: middle;\n    }\n\n    .dataframe tbody tr th {\n        vertical-align: top;\n    }\n\n    .dataframe thead th {\n        text-align: right;\n    }\n</style>\n<table border=\"1\" class=\"dataframe\">\n  <thead>\n    <tr style=\"text-align: right;\">\n      <th></th>\n      <th>TMP__mean__w=1m_s=30s</th>\n      <th>TMP__var__w=1m_s=30s</th>\n      <th>TMP__std__w=1m_s=30s</th>\n      <th>TMP__amax__w=1m_s=30s</th>\n      <th>TMP__amin__w=1m_s=30s</th>\n      <th>TMP__skew__w=1m_s=30s</th>\n      <th>TMP__kurtosis__w=1m_s=30s</th>\n      <th>TMP__quantile_0.25__w=1m_s=30s</th>\n      <th>TMP__quantile_0.5__w=1m_s=30s</th>\n      <th>TMP__quantile_0.75__w=1m_s=30s</th>\n      <th>TMP__rms__w=1m_s=30s</th>\n      <th>TMP__slope__w=1m_s=30s</th>\n      <th>TMP__area__w=1m_s=30s</th>\n    </tr>\n    <tr>\n      <th>timestamp</th>\n      <th></th>\n      <th></th>\n      <th></th>\n      <th></th>\n      <th></th>\n      <th></th>\n      <th></th>\n      <th></th>\n      <th></th>\n      <th></th>\n      <th></th>\n      <th></th>\n      <th></th>\n    </tr>\n  </thead>\n  <tbody>\n    <tr>\n      <th>2017-06-13 16:03:43+02:00</th>\n      <td>32.084496</td>\n      <td>0.002701</td>\n      <td>0.051975</td>\n      <td>32.150002</td>\n      <td>31.930000</td>\n      <td>-1.664221</td>\n      <td>2.031371</td>\n      <td>32.085000</td>\n      <td>32.110001</td>\n      <td>32.110001</td>\n      <td>32.084541</td>\n      <td>-0.000589</td>\n      <td>7700.279297</td>\n    </tr>\n    <tr>\n      <th>2017-06-13 14:23:13+02:00</th>\n      <td>33.346001</td>\n      <td>2062.819580</td>\n      <td>45.418274</td>\n      <td>382.209991</td>\n      <td>27.370001</td>\n      <td>7.550932</td>\n      <td>55.016679</td>\n      <td>27.389999</td>\n      <td>27.410000</td>\n      <td>27.474999</td>\n      <td>56.345150</td>\n      <td>-0.146092</td>\n      <td>8003.040039</td>\n    </tr>\n  </tbody>\n</table>\n</div>"
     },
     "execution_count": 6,
     "metadata": {},
     "output_type": "execute_result"
    }
   ],
   "source": [
    "# to extract the features we just call the collection's `calculate()` function\n",
    "extracted_feats = tmp_feat_extr.calculate(\n",
    "    data=df_tmp,     # The signals on which features are calculated\n",
    "    return_df=True,  # If true, an outer merge on the feature-outputs will be performed\n",
    "    n_jobs=2         # If > 1, the feature extraction is parallellized\n",
    ")\n",
    "\n",
    "extracted_feats.sample(2)"
   ]
  },
  {
   "cell_type": "markdown",
   "metadata": {},
   "source": [
    "### Multiple `time-based` window sizes and strides"
   ]
  },
  {
   "cell_type": "markdown",
   "metadata": {},
   "source": [
    "_In this example, we use **multiple** stride-window-size combinations on a wearables' ElectorDermal Activity (EDA)_"
   ]
  },
  {
   "cell_type": "markdown",
   "metadata": {},
   "source": [
    "Note that we do not use int-based window-stride combinations, but `time-based` ones. Also take a closer look at the `__repr__` string."
   ]
  },
  {
   "cell_type": "code",
   "execution_count": 7,
   "metadata": {},
   "outputs": [
    {
     "name": "stdout",
     "output_type": "stream",
     "text": [
      "EDA: (\n",
      "\twin: 1h    , stride: 30s: [\n",
      "\t\tFeatureDescriptor - func: NumpyFuncWrapper(mean, ['mean'], {}),\n",
      "\t\tFeatureDescriptor - func: NumpyFuncWrapper(slope, ['slope'], {}),\n",
      "\t]\n",
      "\twin: 30s   , stride: 15s: [\n",
      "\t\tFeatureDescriptor - func: NumpyFuncWrapper(std, ['std'], {}),\n",
      "\t\tFeatureDescriptor - func: NumpyFuncWrapper(kurtosis, ['kurtosis'], {}),\n",
      "\t\tFeatureDescriptor - func: NumpyFuncWrapper(quantile, ['quantile_0.25', 'quantile_0.5', 'quantile_0.75'], {'q': [0.25, 0.5, 0.75]}),\n",
      "\t\tFeatureDescriptor - func: NumpyFuncWrapper(sum, ['area'], {}),\n",
      "\t]\n",
      "\twin: 1m30s , stride: 15s: [\n",
      "\t\tFeatureDescriptor - func: NumpyFuncWrapper(var, ['var'], {}),\n",
      "\t\tFeatureDescriptor - func: NumpyFuncWrapper(amax, ['amax'], {}),\n",
      "\t]\n",
      "\twin: 1m30s , stride: 30s: [\n",
      "\t\tFeatureDescriptor - func: NumpyFuncWrapper(amin, ['amin'], {}),\n",
      "\t]\n",
      "\twin: 2m    , stride: 30s: [\n",
      "\t\tFeatureDescriptor - func: NumpyFuncWrapper(skew, ['skew'], {}),\n",
      "\t\tFeatureDescriptor - func: NumpyFuncWrapper(<lambda>, ['rms'], {}),\n",
      "\t]\n",
      ")\n",
      "\n",
      "------------------------------------------------------------\n"
     ]
    },
    {
     "data": {
      "text/plain": "                           EDA__amin__w=1m30s_s=30s  EDA__amax__w=1m30s_s=15s  \\\ntimestamp                                                                       \n2017-06-13 16:19:58+02:00                       NaN                  0.919896   \n2017-06-13 14:33:43+02:00                  0.707522                  0.825185   \n\n                           EDA__mean__w=1h_s=30s  EDA__area__w=30s_s=15s  \\\ntimestamp                                                                  \n2017-06-13 16:19:58+02:00                    NaN              106.948418   \n2017-06-13 14:33:43+02:00                    NaN               96.396545   \n\n                           EDA__std__w=30s_s=15s  EDA__rms__w=2m_s=30s  \\\ntimestamp                                                                \n2017-06-13 16:19:58+02:00               0.003712                   NaN   \n2017-06-13 14:33:43+02:00               0.007705              0.760067   \n\n                           EDA__var__w=1m30s_s=15s  \\\ntimestamp                                            \n2017-06-13 16:19:58+02:00                 0.000090   \n2017-06-13 14:33:43+02:00                 0.000587   \n\n                           EDA__quantile_0.25__w=30s_s=15s  \\\ntimestamp                                                    \n2017-06-13 16:19:58+02:00                         0.887922   \n2017-06-13 14:33:43+02:00                         0.799606   \n\n                           EDA__quantile_0.5__w=30s_s=15s  \\\ntimestamp                                                   \n2017-06-13 16:19:58+02:00                        0.890480   \n2017-06-13 14:33:43+02:00                        0.804083   \n\n                           EDA__quantile_0.75__w=30s_s=15s  \\\ntimestamp                                                    \n2017-06-13 16:19:58+02:00                         0.894317   \n2017-06-13 14:33:43+02:00                         0.808879   \n\n                           EDA__skew__w=2m_s=30s  EDA__kurtosis__w=30s_s=15s  \\\ntimestamp                                                                      \n2017-06-13 16:19:58+02:00                    NaN                   -0.368449   \n2017-06-13 14:33:43+02:00              -0.289965                    1.149474   \n\n                           EDA__slope__w=1h_s=30s  \ntimestamp                                          \n2017-06-13 16:19:58+02:00                     NaN  \n2017-06-13 14:33:43+02:00                     NaN  ",
      "text/html": "<div>\n<style scoped>\n    .dataframe tbody tr th:only-of-type {\n        vertical-align: middle;\n    }\n\n    .dataframe tbody tr th {\n        vertical-align: top;\n    }\n\n    .dataframe thead th {\n        text-align: right;\n    }\n</style>\n<table border=\"1\" class=\"dataframe\">\n  <thead>\n    <tr style=\"text-align: right;\">\n      <th></th>\n      <th>EDA__amin__w=1m30s_s=30s</th>\n      <th>EDA__amax__w=1m30s_s=15s</th>\n      <th>EDA__mean__w=1h_s=30s</th>\n      <th>EDA__area__w=30s_s=15s</th>\n      <th>EDA__std__w=30s_s=15s</th>\n      <th>EDA__rms__w=2m_s=30s</th>\n      <th>EDA__var__w=1m30s_s=15s</th>\n      <th>EDA__quantile_0.25__w=30s_s=15s</th>\n      <th>EDA__quantile_0.5__w=30s_s=15s</th>\n      <th>EDA__quantile_0.75__w=30s_s=15s</th>\n      <th>EDA__skew__w=2m_s=30s</th>\n      <th>EDA__kurtosis__w=30s_s=15s</th>\n      <th>EDA__slope__w=1h_s=30s</th>\n    </tr>\n    <tr>\n      <th>timestamp</th>\n      <th></th>\n      <th></th>\n      <th></th>\n      <th></th>\n      <th></th>\n      <th></th>\n      <th></th>\n      <th></th>\n      <th></th>\n      <th></th>\n      <th></th>\n      <th></th>\n      <th></th>\n    </tr>\n  </thead>\n  <tbody>\n    <tr>\n      <th>2017-06-13 16:19:58+02:00</th>\n      <td>NaN</td>\n      <td>0.919896</td>\n      <td>NaN</td>\n      <td>106.948418</td>\n      <td>0.003712</td>\n      <td>NaN</td>\n      <td>0.000090</td>\n      <td>0.887922</td>\n      <td>0.890480</td>\n      <td>0.894317</td>\n      <td>NaN</td>\n      <td>-0.368449</td>\n      <td>NaN</td>\n    </tr>\n    <tr>\n      <th>2017-06-13 14:33:43+02:00</th>\n      <td>0.707522</td>\n      <td>0.825185</td>\n      <td>NaN</td>\n      <td>96.396545</td>\n      <td>0.007705</td>\n      <td>0.760067</td>\n      <td>0.000587</td>\n      <td>0.799606</td>\n      <td>0.804083</td>\n      <td>0.808879</td>\n      <td>-0.289965</td>\n      <td>1.149474</td>\n      <td>NaN</td>\n    </tr>\n  </tbody>\n</table>\n</div>"
     },
     "execution_count": 7,
     "metadata": {},
     "output_type": "execute_result"
    }
   ],
   "source": [
    "# PoC: we will select a random combination of the window_size stride combination\n",
    "window_size_s = ['30s', '120s', '90s', '1h']\n",
    "stride_size_s = ['15s', '30s']\n",
    "\n",
    "import random\n",
    "\n",
    "gsr_feat_extr = FeatureCollection(\n",
    "    [\n",
    "        FeatureDescriptor(\n",
    "            series_name=\"EDA\",\n",
    "            window=random.choice(window_size_s),\n",
    "            stride=random.choice(stride_size_s),\n",
    "            function=f,\n",
    "        )\n",
    "        for f in segment_funcs\n",
    "    ]\n",
    ")\n",
    "\n",
    "# the __repr__ string outputs the windows & strides in a time-string representation :)\n",
    "print(gsr_feat_extr)\n",
    "print('-'*60)\n",
    "gsr_feat_extr.calculate(df_gsr, return_df=True, show_progress=False, n_jobs=None).sample(2)"
   ]
  },
  {
   "cell_type": "markdown",
   "metadata": {},
   "source": [
    "**note**: The `NaN` values in the above pd.DataFrame are cause by the outer merge which we do to retain the time-indices. Various feature were extracted at different windows & strides, thus making few features share the same time-indices.\n",
    "<br><br>\n",
    "If we set `return_df=False`, a `List[pd.Series]` will be returned"
   ]
  },
  {
   "cell_type": "code",
   "execution_count": 8,
   "metadata": {},
   "outputs": [
    {
     "name": "stdout",
     "output_type": "stream",
     "text": [
      "11\n"
     ]
    },
    {
     "data": {
      "text/plain": "                           EDA__amin__w=1m30s_s=30s\ntimestamp                                          \n2017-06-13 16:04:43+02:00                  1.297283\n2017-06-13 15:40:13+02:00                  1.596755\n2017-06-13 15:41:43+02:00                  1.875565",
      "text/html": "<div>\n<style scoped>\n    .dataframe tbody tr th:only-of-type {\n        vertical-align: middle;\n    }\n\n    .dataframe tbody tr th {\n        vertical-align: top;\n    }\n\n    .dataframe thead th {\n        text-align: right;\n    }\n</style>\n<table border=\"1\" class=\"dataframe\">\n  <thead>\n    <tr style=\"text-align: right;\">\n      <th></th>\n      <th>EDA__amin__w=1m30s_s=30s</th>\n    </tr>\n    <tr>\n      <th>timestamp</th>\n      <th></th>\n    </tr>\n  </thead>\n  <tbody>\n    <tr>\n      <th>2017-06-13 16:04:43+02:00</th>\n      <td>1.297283</td>\n    </tr>\n    <tr>\n      <th>2017-06-13 15:40:13+02:00</th>\n      <td>1.596755</td>\n    </tr>\n    <tr>\n      <th>2017-06-13 15:41:43+02:00</th>\n      <td>1.875565</td>\n    </tr>\n  </tbody>\n</table>\n</div>"
     },
     "execution_count": 8,
     "metadata": {},
     "output_type": "execute_result"
    }
   ],
   "source": [
    "feat_list : List[pd.Series] = gsr_feat_extr.calculate(df_gsr, return_df=False, show_progress=False, n_jobs=None)\n",
    "print(len(feat_list))\n",
    "feat_list[0].sample(3)"
   ]
  },
  {
   "cell_type": "markdown",
   "metadata": {
    "tags": []
   },
   "source": [
    "## Multiple series feature extraction"
   ]
  },
  {
   "cell_type": "code",
   "execution_count": 9,
   "metadata": {
    "tags": []
   },
   "outputs": [
    {
     "name": "stdout",
     "output_type": "stream",
     "text": [
      "EDA: (\n",
      "\twin: 1h    , stride: 30s: [\n",
      "\t\tFeatureDescriptor - func: NumpyFuncWrapper(mean, ['mean'], {}),\n",
      "\t\tFeatureDescriptor - func: NumpyFuncWrapper(slope, ['slope'], {}),\n",
      "\t]\n",
      "\twin: 30s   , stride: 15s: [\n",
      "\t\tFeatureDescriptor - func: NumpyFuncWrapper(std, ['std'], {}),\n",
      "\t\tFeatureDescriptor - func: NumpyFuncWrapper(kurtosis, ['kurtosis'], {}),\n",
      "\t\tFeatureDescriptor - func: NumpyFuncWrapper(quantile, ['quantile_0.25', 'quantile_0.5', 'quantile_0.75'], {'q': [0.25, 0.5, 0.75]}),\n",
      "\t\tFeatureDescriptor - func: NumpyFuncWrapper(sum, ['area'], {}),\n",
      "\t]\n",
      "\twin: 1m30s , stride: 15s: [\n",
      "\t\tFeatureDescriptor - func: NumpyFuncWrapper(var, ['var'], {}),\n",
      "\t\tFeatureDescriptor - func: NumpyFuncWrapper(amax, ['amax'], {}),\n",
      "\t]\n",
      "\twin: 1m30s , stride: 30s: [\n",
      "\t\tFeatureDescriptor - func: NumpyFuncWrapper(amin, ['amin'], {}),\n",
      "\t]\n",
      "\twin: 2m    , stride: 30s: [\n",
      "\t\tFeatureDescriptor - func: NumpyFuncWrapper(skew, ['skew'], {}),\n",
      "\t\tFeatureDescriptor - func: NumpyFuncWrapper(<lambda>, ['rms'], {}),\n",
      "\t]\n",
      ")\n",
      "TMP: (\n",
      "\twin: 1m    , stride: 30s: [\n",
      "\t\tFeatureDescriptor - func: NumpyFuncWrapper(mean, ['mean'], {}),\n",
      "\t\tFeatureDescriptor - func: NumpyFuncWrapper(std, ['std'], {}),\n",
      "\t\tFeatureDescriptor - func: NumpyFuncWrapper(var, ['var'], {}),\n",
      "\t\tFeatureDescriptor - func: NumpyFuncWrapper(amax, ['amax'], {}),\n",
      "\t\tFeatureDescriptor - func: NumpyFuncWrapper(amin, ['amin'], {}),\n",
      "\t\tFeatureDescriptor - func: NumpyFuncWrapper(skew, ['skew'], {}),\n",
      "\t\tFeatureDescriptor - func: NumpyFuncWrapper(kurtosis, ['kurtosis'], {}),\n",
      "\t\tFeatureDescriptor - func: NumpyFuncWrapper(quantile, ['quantile_0.25', 'quantile_0.5', 'quantile_0.75'], {'q': [0.25, 0.5, 0.75]}),\n",
      "\t\tFeatureDescriptor - func: NumpyFuncWrapper(slope, ['slope'], {}),\n",
      "\t\tFeatureDescriptor - func: NumpyFuncWrapper(<lambda>, ['rms'], {}),\n",
      "\t\tFeatureDescriptor - func: NumpyFuncWrapper(sum, ['area'], {}),\n",
      "\t]\n",
      ")\n",
      "\n",
      "------------------------------------------------------------\n"
     ]
    },
    {
     "data": {
      "text/plain": "                           EDA__mean__w=1h_s=30s  EDA__amin__w=1m30s_s=30s  \\\ntimestamp                                                                    \n2017-06-13 14:37:58+02:00                    NaN                       NaN   \n2017-06-13 14:39:28+02:00                    NaN                       NaN   \n\n                           EDA__amax__w=1m30s_s=15s  EDA__area__w=30s_s=15s  \\\ntimestamp                                                                     \n2017-06-13 14:37:58+02:00                  1.074579              111.493195   \n2017-06-13 14:39:28+02:00                  1.207589              108.660507   \n\n                           TMP__mean__w=1m_s=30s  TMP__var__w=1m_s=30s  \\\ntimestamp                                                                \n2017-06-13 14:37:58+02:00                    NaN                   NaN   \n2017-06-13 14:39:28+02:00                    NaN                   NaN   \n\n                           TMP__amin__w=1m_s=30s  TMP__amax__w=1m_s=30s  \\\ntimestamp                                                                 \n2017-06-13 14:37:58+02:00                    NaN                    NaN   \n2017-06-13 14:39:28+02:00                    NaN                    NaN   \n\n                           EDA__var__w=1m30s_s=15s  EDA__rms__w=2m_s=30s  ...  \\\ntimestamp                                                                 ...   \n2017-06-13 14:37:58+02:00                 0.006337                   NaN  ...   \n2017-06-13 14:39:28+02:00                 0.001110                   NaN  ...   \n\n                           EDA__quantile_0.75__w=30s_s=15s  \\\ntimestamp                                                    \n2017-06-13 14:37:58+02:00                         0.937732   \n2017-06-13 14:39:28+02:00                         0.927570   \n\n                           TMP__quantile_0.25__w=1m_s=30s  \\\ntimestamp                                                   \n2017-06-13 14:37:58+02:00                             NaN   \n2017-06-13 14:39:28+02:00                             NaN   \n\n                           TMP__quantile_0.5__w=1m_s=30s  \\\ntimestamp                                                  \n2017-06-13 14:37:58+02:00                            NaN   \n2017-06-13 14:39:28+02:00                            NaN   \n\n                           TMP__quantile_0.75__w=1m_s=30s  \\\ntimestamp                                                   \n2017-06-13 14:37:58+02:00                             NaN   \n2017-06-13 14:39:28+02:00                             NaN   \n\n                           TMP__slope__w=1m_s=30s  TMP__kurtosis__w=1m_s=30s  \\\ntimestamp                                                                      \n2017-06-13 14:37:58+02:00                     NaN                        NaN   \n2017-06-13 14:39:28+02:00                     NaN                        NaN   \n\n                           TMP__skew__w=1m_s=30s  EDA__kurtosis__w=30s_s=15s  \\\ntimestamp                                                                      \n2017-06-13 14:37:58+02:00                    NaN                    3.663326   \n2017-06-13 14:39:28+02:00                    NaN                   14.081461   \n\n                           EDA__skew__w=2m_s=30s  EDA__slope__w=1h_s=30s  \ntimestamp                                                                 \n2017-06-13 14:37:58+02:00                    NaN                     NaN  \n2017-06-13 14:39:28+02:00                    NaN                     NaN  \n\n[2 rows x 26 columns]",
      "text/html": "<div>\n<style scoped>\n    .dataframe tbody tr th:only-of-type {\n        vertical-align: middle;\n    }\n\n    .dataframe tbody tr th {\n        vertical-align: top;\n    }\n\n    .dataframe thead th {\n        text-align: right;\n    }\n</style>\n<table border=\"1\" class=\"dataframe\">\n  <thead>\n    <tr style=\"text-align: right;\">\n      <th></th>\n      <th>EDA__mean__w=1h_s=30s</th>\n      <th>EDA__amin__w=1m30s_s=30s</th>\n      <th>EDA__amax__w=1m30s_s=15s</th>\n      <th>EDA__area__w=30s_s=15s</th>\n      <th>TMP__mean__w=1m_s=30s</th>\n      <th>TMP__var__w=1m_s=30s</th>\n      <th>TMP__amin__w=1m_s=30s</th>\n      <th>TMP__amax__w=1m_s=30s</th>\n      <th>EDA__var__w=1m30s_s=15s</th>\n      <th>EDA__rms__w=2m_s=30s</th>\n      <th>...</th>\n      <th>EDA__quantile_0.75__w=30s_s=15s</th>\n      <th>TMP__quantile_0.25__w=1m_s=30s</th>\n      <th>TMP__quantile_0.5__w=1m_s=30s</th>\n      <th>TMP__quantile_0.75__w=1m_s=30s</th>\n      <th>TMP__slope__w=1m_s=30s</th>\n      <th>TMP__kurtosis__w=1m_s=30s</th>\n      <th>TMP__skew__w=1m_s=30s</th>\n      <th>EDA__kurtosis__w=30s_s=15s</th>\n      <th>EDA__skew__w=2m_s=30s</th>\n      <th>EDA__slope__w=1h_s=30s</th>\n    </tr>\n    <tr>\n      <th>timestamp</th>\n      <th></th>\n      <th></th>\n      <th></th>\n      <th></th>\n      <th></th>\n      <th></th>\n      <th></th>\n      <th></th>\n      <th></th>\n      <th></th>\n      <th></th>\n      <th></th>\n      <th></th>\n      <th></th>\n      <th></th>\n      <th></th>\n      <th></th>\n      <th></th>\n      <th></th>\n      <th></th>\n      <th></th>\n    </tr>\n  </thead>\n  <tbody>\n    <tr>\n      <th>2017-06-13 14:37:58+02:00</th>\n      <td>NaN</td>\n      <td>NaN</td>\n      <td>1.074579</td>\n      <td>111.493195</td>\n      <td>NaN</td>\n      <td>NaN</td>\n      <td>NaN</td>\n      <td>NaN</td>\n      <td>0.006337</td>\n      <td>NaN</td>\n      <td>...</td>\n      <td>0.937732</td>\n      <td>NaN</td>\n      <td>NaN</td>\n      <td>NaN</td>\n      <td>NaN</td>\n      <td>NaN</td>\n      <td>NaN</td>\n      <td>3.663326</td>\n      <td>NaN</td>\n      <td>NaN</td>\n    </tr>\n    <tr>\n      <th>2017-06-13 14:39:28+02:00</th>\n      <td>NaN</td>\n      <td>NaN</td>\n      <td>1.207589</td>\n      <td>108.660507</td>\n      <td>NaN</td>\n      <td>NaN</td>\n      <td>NaN</td>\n      <td>NaN</td>\n      <td>0.001110</td>\n      <td>NaN</td>\n      <td>...</td>\n      <td>0.927570</td>\n      <td>NaN</td>\n      <td>NaN</td>\n      <td>NaN</td>\n      <td>NaN</td>\n      <td>NaN</td>\n      <td>NaN</td>\n      <td>14.081461</td>\n      <td>NaN</td>\n      <td>NaN</td>\n    </tr>\n  </tbody>\n</table>\n<p>2 rows × 26 columns</p>\n</div>"
     },
     "execution_count": 9,
     "metadata": {},
     "output_type": "execute_result"
    }
   ],
   "source": [
    "# Construct the feature FeatureCollection\n",
    "#   =  higher order wrapper which aggregates the featuredescriptions\n",
    "multimodal_feature_extraction = FeatureCollection(\n",
    "    feature_descriptors=[gsr_feat_extr, tmp_feat_extr]\n",
    ")\n",
    "\n",
    "print(multimodal_feature_extraction)\n",
    "print('-'*60)\n",
    "\n",
    "df_feat = multimodal_feature_extraction.calculate(\n",
    "    [df_gsr, df_tmp], return_df=True\n",
    ")\n",
    "df_feat.sample(2)"
   ]
  },
  {
   "cell_type": "markdown",
   "metadata": {},
   "source": [
    "## Logging"
   ]
  },
  {
   "cell_type": "markdown",
   "metadata": {},
   "source": [
    "`TODO`"
   ]
  },
  {
   "cell_type": "markdown",
   "metadata": {
    "tags": []
   },
   "source": [
    "## Use case: batch-based feature extraction"
   ]
  },
  {
   "cell_type": "code",
   "execution_count": 10,
   "metadata": {},
   "outputs": [],
   "source": [
    "from tsflex.chunking import chunk_data"
   ]
  },
  {
   "cell_type": "markdown",
   "metadata": {},
   "source": [
    "* maybe execute this on a highdimensional series, like the `sleep data`"
   ]
  },
  {
   "cell_type": "code",
   "execution_count": 11,
   "metadata": {},
   "outputs": [],
   "source": [
    "same_range_chunks = chunk_data(\n",
    "    data=[df_tmp],\n",
    "    fs_dict={\"EDA\": 4, \"TMP\": 4},\n",
    "    max_chunk_dur='10min'\n",
    ")"
   ]
  },
  {
   "cell_type": "markdown",
   "metadata": {
    "tags": []
   },
   "source": [
    "## Serialization"
   ]
  },
  {
   "cell_type": "markdown",
   "metadata": {},
   "source": [
    "Serialization is mandatory to store and share your pipelines.\n",
    "`TODO`"
   ]
  },
  {
   "cell_type": "code",
   "execution_count": 12,
   "metadata": {},
   "outputs": [],
   "source": [
    "multimodal_feature_extraction.serialize(\"data/example_serialization.pkl\")"
   ]
  },
  {
   "cell_type": "markdown",
   "metadata": {
    "tags": []
   },
   "source": [
    "# Bonus - Get LAYD: Look At Your Data"
   ]
  },
  {
   "cell_type": "markdown",
   "metadata": {},
   "source": [
    "And as a bonus, for running/reading this notebook, you get some nice visualization code, for\n",
    "ofcourse time-series."
   ]
  },
  {
   "cell_type": "code",
   "execution_count": 13,
   "metadata": {},
   "outputs": [],
   "source": [
    "# !pip install ipywidgets\n",
    "# !pip install plotly\n",
    "import ipywidgets as widgets\n",
    "import plotly.graph_objects as go\n",
    "from ipywidgets import interact_manual\n",
    "from plotly.subplots import make_subplots"
   ]
  },
  {
   "cell_type": "code",
   "execution_count": 14,
   "metadata": {},
   "outputs": [
    {
     "data": {
      "text/plain": "interactive(children=(SelectMultiple(description='features', options=('EDA__mean__w=1h_s=30s', 'EDA__amin__w=1…",
      "application/vnd.jupyter.widget-view+json": {
       "version_major": 2,
       "version_minor": 0,
       "model_id": "6b90a68cb62044bb8a236c5e8c89aef5"
      }
     },
     "metadata": {},
     "output_type": "display_data"
    }
   ],
   "source": [
    "df_dict = {\"tmp\": df_tmp, \"gsr\": df_gsr}\n",
    "feat_widget = widgets.SelectMultiple(options=df_feat.columns)\n",
    "sig_widget = widgets.SelectMultiple(options=[\"gsr\", \"tmp\"])\n",
    "\n",
    "\n",
    "@interact_manual\n",
    "def visuzalize(features=feat_widget, signals=sig_widget):\n",
    "    row_titles = list(signals) + [\"features\"] if len(features) else []\n",
    "    fig = make_subplots(\n",
    "        rows=len(row_titles),\n",
    "        cols=1,\n",
    "        shared_xaxes=True,\n",
    "        vertical_spacing=0.1 / len(row_titles),\n",
    "        row_titles=row_titles,\n",
    "    )\n",
    "    fig.update_layout(height=300 * len(row_titles))\n",
    "\n",
    "    # first, visualize the \"raw\" signals\n",
    "    row_idx = 1\n",
    "    for sig in signals:\n",
    "        df_sig = df_dict[sig][10:].resample(\"1s\").mean()\n",
    "        for col in set(df_sig.columns).difference([\"index\", \"timestamp\"]):\n",
    "            fig.add_trace(\n",
    "                go.Scattergl(x=df_sig.index, y=df_sig[col], name=col, hoverinfo=\"skip\"),\n",
    "                row=row_idx,\n",
    "                col=1,\n",
    "            )\n",
    "        row_idx += 1\n",
    "\n",
    "    # then visualize the features\n",
    "    for feature in features:\n",
    "        df_ff = df_feat[feature].dropna()\n",
    "        fig.add_trace(\n",
    "            go.Scattergl(\n",
    "                connectgaps=True,\n",
    "                x=df_ff.index,\n",
    "                y=df_ff,\n",
    "                name=feature,\n",
    "                hoverinfo=\"skip\",\n",
    "                mode=\"markers\",\n",
    "                showlegend=True,\n",
    "            ),\n",
    "            row=row_idx,\n",
    "            col=1,\n",
    "        )\n",
    "\n",
    "    return fig.show()"
   ]
  },
  {
   "cell_type": "code",
   "execution_count": null,
   "outputs": [],
   "source": [],
   "metadata": {
    "collapsed": false,
    "pycharm": {
     "name": "#%%\n"
    }
   }
  }
 ],
 "metadata": {
  "interpreter": {
   "hash": "bb9f799bd6e477ee22986cb3017f2b22764a696a803a513374640b5de3a6fdad"
  },
  "kernelspec": {
   "name": "python3",
   "language": "python",
   "display_name": "Python 3"
  },
  "language_info": {
   "name": "python",
   "version": ""
  },
  "metadata": {
   "interpreter": {
    "hash": "11faeb0f6d59efecf80914f265bd27ce56a3bb8010c5ee7c0d3aa19a8ad9fdc4"
   }
  },
  "toc-autonumbering": true
 },
 "nbformat": 4,
 "nbformat_minor": 4
}